{
 "cells": [
  {
   "cell_type": "markdown",
   "metadata": {},
   "source": [
    "# Total Graduates in Education\n",
    "\n",
    "## Map and Graph\n",
    "\n",
    "Will use Dash recreate the graph found H:\\CALDER\\CALDER Data Visualizations\\Jupyter Notebooks\\Teacher Labor Shortage\\IPEDS with file name: Map - (Awlevel State) Aggregated Number of Degrees in Education (1984-2016). \n",
    "\n",
    "There was a problem rendering the file and I haven't found out why. "
   ]
  },
  {
   "cell_type": "code",
   "execution_count": 1,
   "metadata": {},
   "outputs": [],
   "source": [
    "# Dependencies for project\n",
    "import dash\n",
    "import dash_core_components as dcc\n",
    "import dash_html_components as html\n",
    "import plotly.graph_objs as go\n",
    "import pandas as pd\n",
    "from dash.dependencies import Input, Output, State"
   ]
  },
  {
   "cell_type": "markdown",
   "metadata": {},
   "source": [
    "### Import data\n",
    "\n",
    "Reshaped data to long using Stata (H:\\CALDER\\CALDER Data Visualizations\\Data\\Teacher Labor Shortage) using file *Reshape_Aggregated Number of Degrees in Education.do*"
   ]
  },
  {
   "cell_type": "code",
   "execution_count": 2,
   "metadata": {},
   "outputs": [],
   "source": [
    "import os"
   ]
  },
  {
   "cell_type": "code",
   "execution_count": 3,
   "metadata": {},
   "outputs": [],
   "source": [
    "os.chdir(r\"H:\\CALDER\\CALDER Data Visualizations\\Data\\Teacher Labor Shortage\")\n",
    "excel = pd.read_excel('Aggregated Number of Degrees in Education (Reshaped long long).xlsx')"
   ]
  },
  {
   "cell_type": "code",
   "execution_count": 4,
   "metadata": {},
   "outputs": [
    {
     "data": {
      "text/html": [
       "<div>\n",
       "<style>\n",
       "    .dataframe thead tr:only-child th {\n",
       "        text-align: right;\n",
       "    }\n",
       "\n",
       "    .dataframe thead th {\n",
       "        text-align: left;\n",
       "    }\n",
       "\n",
       "    .dataframe tbody tr th {\n",
       "        vertical-align: top;\n",
       "    }\n",
       "</style>\n",
       "<table border=\"1\" class=\"dataframe\">\n",
       "  <thead>\n",
       "    <tr style=\"text-align: right;\">\n",
       "      <th></th>\n",
       "      <th>year</th>\n",
       "      <th>state_short</th>\n",
       "      <th>state_long</th>\n",
       "      <th>indicator</th>\n",
       "      <th>value</th>\n",
       "    </tr>\n",
       "  </thead>\n",
       "  <tbody>\n",
       "    <tr>\n",
       "      <th>0</th>\n",
       "      <td>1984</td>\n",
       "      <td>AK</td>\n",
       "      <td>Alaska</td>\n",
       "      <td>elem ba</td>\n",
       "      <td>84</td>\n",
       "    </tr>\n",
       "    <tr>\n",
       "      <th>1</th>\n",
       "      <td>1984</td>\n",
       "      <td>AK</td>\n",
       "      <td>Alaska</td>\n",
       "      <td>other ba</td>\n",
       "      <td>24</td>\n",
       "    </tr>\n",
       "    <tr>\n",
       "      <th>2</th>\n",
       "      <td>1984</td>\n",
       "      <td>AK</td>\n",
       "      <td>Alaska</td>\n",
       "      <td>sped ba</td>\n",
       "      <td>0</td>\n",
       "    </tr>\n",
       "    <tr>\n",
       "      <th>3</th>\n",
       "      <td>1984</td>\n",
       "      <td>AK</td>\n",
       "      <td>Alaska</td>\n",
       "      <td>stem ba</td>\n",
       "      <td>0</td>\n",
       "    </tr>\n",
       "    <tr>\n",
       "      <th>4</th>\n",
       "      <td>1984</td>\n",
       "      <td>AK</td>\n",
       "      <td>Alaska</td>\n",
       "      <td>elem ma</td>\n",
       "      <td>5</td>\n",
       "    </tr>\n",
       "  </tbody>\n",
       "</table>\n",
       "</div>"
      ],
      "text/plain": [
       "   year state_short state_long indicator  value\n",
       "0  1984          AK     Alaska   elem ba     84\n",
       "1  1984          AK     Alaska  other ba     24\n",
       "2  1984          AK     Alaska   sped ba      0\n",
       "3  1984          AK     Alaska   stem ba      0\n",
       "4  1984          AK     Alaska   elem ma      5"
      ]
     },
     "execution_count": 4,
     "metadata": {},
     "output_type": "execute_result"
    }
   ],
   "source": [
    "excel.head(5)"
   ]
  },
  {
   "cell_type": "code",
   "execution_count": 5,
   "metadata": {},
   "outputs": [
    {
     "data": {
      "text/plain": [
       "array(['elem ba', 'other ba', 'sped ba', 'stem ba', 'elem ma', 'other ma',\n",
       "       'sped ma', 'stem ma', 'elem phd', 'other phd', 'sped phd',\n",
       "       'stem phd', 'agg total', 'ba total', 'elem total', 'ma total',\n",
       "       'other total', 'phd total', 'sped total', 'state total',\n",
       "       'stem total'], dtype=object)"
      ]
     },
     "execution_count": 5,
     "metadata": {},
     "output_type": "execute_result"
    }
   ],
   "source": [
    "excel.indicator.unique()"
   ]
  },
  {
   "cell_type": "code",
   "execution_count": 6,
   "metadata": {},
   "outputs": [],
   "source": [
    "excel.replace('elem ba', 'Elementary Bachelor', inplace=True)\n",
    "excel.replace('other ba', 'Other Bachelor', inplace=True)\n",
    "excel.replace('sped ba', 'SPED Bachelor', inplace=True)\n",
    "excel.replace('stem ba', 'STEM Bachelor', inplace=True)\n",
    "excel.replace('elem ma', 'Elementary Masters', inplace=True)\n",
    "excel.replace('other ma', 'Other Masters', inplace=True)\n",
    "excel.replace('sped ma', 'SPED Masters', inplace=True)\n",
    "excel.replace('stem ma', 'STEM Masters', inplace=True)\n",
    "excel.replace('elem phd', 'Elementary PhD', inplace=True)\n",
    "excel.replace('other phd', 'Other PhD', inplace=True)\n",
    "excel.replace('sped phd', 'SPED PhD', inplace=True)\n",
    "excel.replace('stem phd', 'STEM PhD', inplace=True)\n",
    "excel.replace('agg total' , 'National Total', inplace=True)\n",
    "\n",
    "excel.replace('ba total', 'Bachelor Total', inplace=True)\n",
    "excel.replace('elem total', 'Elementary Total', inplace=True)\n",
    "excel.replace('ma total', 'Masters Total', inplace=True)\n",
    "excel.replace('other total', 'Other Total', inplace=True)\n",
    "excel.replace('phd total', 'PhD Total', inplace=True)\n",
    "excel.replace('sped total', 'SPED Total', inplace=True)\n",
    "excel.replace('state total', 'State Total', inplace=True)\n",
    "excel.replace('stem total', 'STEM Total', inplace=True)"
   ]
  },
  {
   "cell_type": "code",
   "execution_count": 7,
   "metadata": {},
   "outputs": [],
   "source": [
    "excel2 = excel[(excel['indicator'] == 'Bachelor Total') | (excel['indicator']=='Masters Total') \n",
    "               | (excel['indicator']=='PhD Total')   | (excel['indicator']=='Elementary Total')\n",
    "               | (excel['indicator']=='Other Total') | (excel['indicator']=='SPED Total')\n",
    "               | (excel['indicator']=='State Total') | (excel['indicator']=='STEM Total')]"
   ]
  },
  {
   "cell_type": "markdown",
   "metadata": {},
   "source": [
    "### Export\n",
    "Export data so it can be used elsewhere"
   ]
  },
  {
   "cell_type": "code",
   "execution_count": null,
   "metadata": {},
   "outputs": [],
   "source": [
    "excel2.to_excel('')"
   ]
  },
  {
   "cell_type": "markdown",
   "metadata": {},
   "source": [
    "## Create Graph\n",
    "\n",
    "Once I've tested the code I will transfer this to a .py file and follow the steps found here: https://plot.ly/dash/deployment in order to get the figure on the [CALDER Website](https://caldercenter.org/data-visualizations)"
   ]
  },
  {
   "cell_type": "markdown",
   "metadata": {},
   "source": [
    "### Version 1\n",
    "\n",
    "This contains:\n",
    "* Two dropdowns, one for state and one for all indicators selected above\n",
    "* One graph\n",
    "* You can select more than one indicator but only one state"
   ]
  },
  {
   "cell_type": "code",
   "execution_count": 8,
   "metadata": {},
   "outputs": [
    {
     "name": "stderr",
     "output_type": "stream",
     "text": [
      " * Running on http://127.0.0.1:8050/ (Press CTRL+C to quit)\n",
      "127.0.0.1 - - [15/Feb/2018 12:47:46] \"GET / HTTP/1.1\" 200 -\n",
      "127.0.0.1 - - [15/Feb/2018 12:47:47] \"GET /_dash-layout HTTP/1.1\" 200 -\n",
      "127.0.0.1 - - [15/Feb/2018 12:47:47] \"GET /_dash-dependencies HTTP/1.1\" 200 -\n",
      "127.0.0.1 - - [15/Feb/2018 12:47:47] \"GET /favicon.ico HTTP/1.1\" 200 -\n",
      "127.0.0.1 - - [15/Feb/2018 12:47:47] \"POST /_dash-update-component HTTP/1.1\" 200 -\n"
     ]
    }
   ],
   "source": [
    "app = dash.Dash()\n",
    "\n",
    "app.css.append_css({\"external_url\": \"https://codepen.io/chriddyp/pen/bWLwgP.css\"}) \n",
    "\n",
    "df = excel2\n",
    "\n",
    "state = df['state_long'].unique()\n",
    "available_indicators = ['State Total', 'Bachelor Total', 'Masters Total', 'PhD Total', 'Elementary Total', 'SPED Total', \n",
    "                        'STEM Total', 'Other Total']\n",
    "\n",
    "# Organize where items will be on the page\n",
    "app.layout = html.Div([\n",
    "        html.H3(\n",
    "            children='Aggregated Number of Graduates in Education by State',\n",
    "            style={\n",
    "                'textAlign': 'center', 'fontFamily' : 'Georgia'\n",
    "            }\n",
    "        ),\n",
    "    \n",
    "        \n",
    "        html.Div([          \n",
    "            html.Div([\n",
    "                html.Div([html.P('Select a State from the drop down below',id='state-title')],\n",
    "                    style={'textAlign': 'center', 'fontFamily': 'Georgia'}),\n",
    "                dcc.Dropdown(\n",
    "                    id='state-id',\n",
    "                    options=[{'label': i, 'value': i} for i in state],\n",
    "                    value = 'Alaska'\n",
    "                )\n",
    "            ],\n",
    "            style={'width': '48%', 'display': 'inline-block'}),\n",
    "            \n",
    "        html.Div([\n",
    "            html.Div([html.P('Select Totals by broad CIP categories and Award type',id='indicator-title')],\n",
    "                style={'textAlign': 'center', 'fontFamily' : 'Georgia'}),\n",
    "            dcc.Dropdown(\n",
    "                id='indicator-id',\n",
    "                options=[{'label': i , 'value': i} for i in available_indicators],\n",
    "                value=['State Total'],\n",
    "                multi=True # This treats items as a list. \n",
    "                )\n",
    "            ],\n",
    "            style={'width':'48%', 'float': 'right', 'display': 'inline-block'})\n",
    "        ]),\n",
    "        \n",
    "        dcc.Graph(id='indicator-graphic')\n",
    "    ])\n",
    "\n",
    "\n",
    "@app.callback(\n",
    "\n",
    "    dash.dependencies.Output('indicator-graphic', 'figure'),\n",
    "    [dash.dependencies.Input('state-id', 'value'),\n",
    "     dash.dependencies.Input('indicator-id', 'value')])\n",
    "def update_time_series(state_id, indicator_ids):\n",
    "    dff = df[df['state_long'] == state_id]\n",
    "    lines = {}\n",
    "    data = []\n",
    "    for indicator_id in indicator_ids:\n",
    "        if indicator_id=='Bachelor Total':  \n",
    "            lines = dict(\n",
    "                 color = (\"#6b6ecf\"),\n",
    "                 width = 3,\n",
    "                 dash = 'dash')\n",
    "        if indicator_id=='Masters Total':           \n",
    "            lines = dict(\n",
    "                 color = (\"#80b1d3\"),\n",
    "                 width = 3,\n",
    "                 dash = 'dash')\n",
    "        if indicator_id=='State Total':           \n",
    "                lines = dict(\n",
    "                     color = (\"#333333\"),\n",
    "                     width = 3)\n",
    "        if indicator_id=='PhD Total':           \n",
    "                lines = dict(\n",
    "                     color = (\"#35B778\"),\n",
    "                     width = 3,\n",
    "                     dash = 'dash') \n",
    "        if indicator_id=='SPED Total':           \n",
    "                lines = dict(\n",
    "                     color = (\"#fdb462\"),\n",
    "                     width = 3,\n",
    "                     dash = 'dot')\n",
    "        if indicator_id=='Elementary Total':           \n",
    "                lines = dict(\n",
    "                     color = (\"#bebada\"),\n",
    "                     width = 3,\n",
    "                     dash = 'dot')\n",
    "        if indicator_id=='Other Total':           \n",
    "                lines = dict(\n",
    "                     color = (\"#fb8072\"),\n",
    "                     width = 3,\n",
    "                     dash = 'dot')\n",
    "        if indicator_id=='STEM Total':           \n",
    "                lines = dict(\n",
    "                     color = (\"#8dd3c7\"),\n",
    "                     width = 3,\n",
    "                     dash = 'dot') \n",
    "        trace = go.Scatter(\n",
    "            x = dff[dff['indicator'] == indicator_id]['year'],\n",
    "            y = dff[dff['indicator'] == indicator_id]['value'],\n",
    "            mode='lines',\n",
    "            name = indicator_id,\n",
    "            line = lines,\n",
    "            opacity = 0.8\n",
    "            )\n",
    "        \n",
    "        data.append(trace)\n",
    "    return {\n",
    "        'data' : data,\n",
    "        'layout' : go.Layout(\n",
    "            xaxis={'title': 'Year'},\n",
    "            yaxis={'title': 'Total Graduates in Education'}\n",
    "        )\n",
    "    }\n",
    "\n",
    "if __name__ == '__main__':\n",
    "    app.run_server()"
   ]
  },
  {
   "cell_type": "markdown",
   "metadata": {},
   "source": [
    "## Test\n",
    "\n",
    "Make changes and merge them to the docket above. "
   ]
  }
 ],
 "metadata": {
  "kernelspec": {
   "display_name": "Python 3",
   "language": "python",
   "name": "python3"
  },
  "language_info": {
   "codemirror_mode": {
    "name": "ipython",
    "version": 3
   },
   "file_extension": ".py",
   "mimetype": "text/x-python",
   "name": "python",
   "nbconvert_exporter": "python",
   "pygments_lexer": "ipython3",
   "version": "3.6.1"
  }
 },
 "nbformat": 4,
 "nbformat_minor": 2
}
